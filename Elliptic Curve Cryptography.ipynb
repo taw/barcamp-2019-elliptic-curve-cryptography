{
 "cells": [
  {
   "cell_type": "markdown",
   "metadata": {},
   "source": [
    "# Elliptic Curve Cryptography\n",
    "\n",
    "All cryptography textbooks are stuck in the 1980s or at best 1990s. It will take a bit of math, but I'll bring you into modern times.\n",
    "\n",
    "### SageMath\n",
    "\n",
    "It's a special language for math based on Python 2. Python 3 got released in 2008, but not everyone got the memo yet.\n",
    "\n",
    "### Some use cases\n",
    "\n",
    "* If Alice👩‍💻 and Bob👨🏻‍💻 already have a shared key, everything is simple. Public key cryptography helps them generate such key over public channel. (Diffie-Hellman) \n",
    "* Proving you are who you claim to be. (SSL certificates)\n",
    "* Proving it's your bitcoins you're spending. (Blockchain)\n",
    "* Sending leaked information to Wikileaks or other journalists (GPG)"
   ]
  },
  {
   "cell_type": "markdown",
   "metadata": {},
   "source": [
    "### Number-like objects\n",
    "\n",
    "* Additive Group - something you can \"add\" and \"subtract\"\n",
    "* Multiplicative Group - something you can \"multiply\" and \"divide\"\n",
    "* Field - something you can \"add\", \"subtract\", \"multiply\", and \"divide\" (except by zero)\n",
    "\n",
    "Additive vs Multiplicative Group is just a matter of notation.\n",
    "\n",
    "### Examples\n",
    "\n",
    "* Complex numbers are a Field\n",
    "* Real numbers are a Field\n",
    "* Rational numbers are a Field\n",
    "* Integers are an additive Group, but not Field (since you cannot divide)\n",
    "* Clock Rotations are a Group\n",
    "* Rubik Cube transformations are a Group.\n",
    "* Finite Fields - Prime Fields $GF(p)$ and Extension Fields $GF(p^k)$\n",
    "\n",
    "### Prime Fields $GF(p)$\n",
    "\n",
    "Finite Field with $p$ elements, where $p$ is a big publicly known prime. Most public key cryptography is based on that."
   ]
  },
  {
   "cell_type": "code",
   "execution_count": 1,
   "metadata": {},
   "outputs": [
    {
     "name": "stdout",
     "output_type": "stream",
     "text": [
      "True\n"
     ]
    }
   ],
   "source": [
    "print is_prime(101)\n",
    "K = GF(101)"
   ]
  },
  {
   "cell_type": "code",
   "execution_count": 2,
   "metadata": {},
   "outputs": [
    {
     "name": "stdout",
     "output_type": "stream",
     "text": [
      "12\n",
      "9\n",
      "9\n"
     ]
    }
   ],
   "source": [
    "print K(2) + K(10)\n",
    "print K(80) + K(30)\n",
    "\n",
    "print 110 % 101"
   ]
  },
  {
   "cell_type": "code",
   "execution_count": 3,
   "metadata": {},
   "outputs": [
    {
     "name": "stdout",
     "output_type": "stream",
     "text": [
      "20\n",
      "81\n",
      "81\n"
     ]
    }
   ],
   "source": [
    "print K(30) - K(10)\n",
    "print K(30) - K(50)\n",
    "\n",
    "print -20 % 101"
   ]
  },
  {
   "cell_type": "code",
   "execution_count": 4,
   "metadata": {},
   "outputs": [
    {
     "name": "stdout",
     "output_type": "stream",
     "text": [
      "50\n",
      "89\n",
      "89\n"
     ]
    }
   ],
   "source": [
    "print K(5) * K(10)\n",
    "print K(30) * K(40)\n",
    "\n",
    "print 1200 % 101"
   ]
  },
  {
   "cell_type": "markdown",
   "metadata": {},
   "source": [
    "### $GF(p)$ inverse\n",
    "\n",
    "If $p$ is prime, then every element except zero has inverse $y$ (so $x*y$ equals $1$).\n",
    "\n",
    "Dividing by $x$ is the same as multiplying by $y$.\n",
    "\n",
    "Inversion and therefore division is very slow compared with other operations."
   ]
  },
  {
   "cell_type": "code",
   "execution_count": 5,
   "metadata": {},
   "outputs": [
    {
     "name": "stdout",
     "output_type": "stream",
     "text": [
      "49\n",
      "1\n",
      "True\n"
     ]
    }
   ],
   "source": [
    "x = K(33)\n",
    "y = x^(101-2)\n",
    "print y\n",
    "print x * y\n",
    "print K(14) / x == K(14) * y"
   ]
  },
  {
   "cell_type": "markdown",
   "metadata": {},
   "source": [
    "### Exponentiation by squaring\n",
    "\n",
    "$p-2$ is huge, but we don't need to multiply it $p-2$ times, we just square a bunch of times and multiply relevant squares.\n",
    "\n",
    "For 128 bit prime $p$, we need between 128 and 256 multiplications. We usually pick prime close to $2^k$ to make this and other steps faster."
   ]
  },
  {
   "cell_type": "code",
   "execution_count": 6,
   "metadata": {},
   "outputs": [
    {
     "name": "stdout",
     "output_type": "stream",
     "text": [
      "49\n"
     ]
    }
   ],
   "source": [
    "x2 = x*x\n",
    "x4 = x2*x2\n",
    "x8 = x4*x4\n",
    "x16 = x8*x8\n",
    "x32 = x16*x16\n",
    "x64 = x32*x32\n",
    "x99 = x64*x32*x2*x\n",
    "print(x99)"
   ]
  },
  {
   "cell_type": "markdown",
   "metadata": {},
   "source": [
    "### Extension Fields $GF(p^k)$\n",
    "\n",
    "There are only two kinds of Finite Fields:\n",
    "\n",
    "* *Prime Fields* $GF(p)$ - size is prime\n",
    "* *Extension Fields* $GF(p^k)$ - size is power of a prime\n",
    "\n",
    "There are no Finite Fields with other sizes, and all fields of same size are identical up to trivial rearrangement.\n",
    "\n",
    "Prime Fields are super easy (everything except inversion is obvious) and widely used.\n",
    "\n",
    "Extension Fields are much more complicated, and rarely used, so we won't be covering them today. They're actually needed for some things like pairing based crypto, and CPUs got new instructions to make them faster, so we'll probably see a lot of them next decade. Extension fields used in cryptography are usually $GF(2^p)$, $GP(p^2)$, $GP(p^3)$, $GP(p^6)$, $GP(p^{12})$."
   ]
  },
  {
   "cell_type": "markdown",
   "metadata": {},
   "source": [
    "### Diffie Hellman\n",
    "* Alice👩‍💻 and Bob👨🏻‍💻 somehow agree to $GF(p)$ and its element $g$. They don't need to be secret. Whole internet can make same choices.\n",
    "* Alice👩‍💻 chooses secret random number $a$, and sends $A=g^a$.\n",
    "* Bob👨🏻‍💻 chooses secret random number $b$, and sends $B=g^b$.\n",
    "* Because $GF(p)$ is a field, $B^a = (g^b)^a = g^{b*a} = g^{a*b} = (g^a)^b = A^b$.\n",
    "* Knowing $GF(p)$, $g$, $A$, $B$ won't let eavesdropper Eve figure out the key.\n",
    "* With this key, Alice👩‍💻 and Bob👨🏻‍💻 can communicate safely.\n",
    "* This is not enough if Eve🕵🏽‍♀️ can modify network traffic.\n",
    "\n",
    "![mandatory xkcd](https://imgs.xkcd.com/comics/alice_and_bob.png)"
   ]
  },
  {
   "cell_type": "code",
   "execution_count": 7,
   "metadata": {},
   "outputs": [
    {
     "name": "stdout",
     "output_type": "stream",
     "text": [
      "Alice sends 98 and Bob sends 70\n",
      "Alice knows key is 82. Bob knows key is 82. Eve knows nothing.\n"
     ]
    }
   ],
   "source": [
    "p = 101\n",
    "K = GF(p)\n",
    "g = K(2)\n",
    "a = randint(2, p)\n",
    "b = randint(2, p)\n",
    "ga = g^a\n",
    "gb = g^b\n",
    "print \"Alice sends %s and Bob sends %s\" % (ga, gb)\n",
    "gab = ga^b\n",
    "gba = gb^a\n",
    "print \"Alice knows key is %s. Bob knows key is %s. Eve knows nothing.\" % (gba, gab)"
   ]
  },
  {
   "cell_type": "markdown",
   "metadata": {},
   "source": [
    "### Problems with Diffie Hellman\n",
    "* Discrete Logarithm Problem: Knowing $g^a$ and $g$, find $a$.\n",
    "* If multiplicative group of $GF(p)$ had no special structure, it would take $2^k$ steps to break it for $2k$-bit key.\n",
    "* Multiplicative group of $GF(p)$ has a lot of structure, best algorithms for discrete logarithm are quite good, so huge keys are needed to compensate for that.\n",
    "\n",
    "NIST recommended key sizes (AES vs DH):\n",
    "* 80 bit - 1024 bit\n",
    "* 112 bit - 2048 bit\n",
    "* 128 bit - 3072 bit\n",
    "* 192 bit - 7680 bit\n",
    "* 256 bit - 15348 bit\n",
    "\n",
    "It's a lot of much data to send with every request, quite slow, and algorithms keep improving."
   ]
  },
  {
   "cell_type": "markdown",
   "metadata": {},
   "source": [
    "### Elliptic Curves\n",
    "\n",
    "Diffie Hellman algorithm works for any group. We want group which has:\n",
    "* minimum exploitable structure\n",
    "* efficient computations\n",
    "* small size\n",
    "\n",
    "Turns out elliptic curves are the only such group we have. (_maybe hyperelliptic curves or lattices_)\n",
    "\n",
    "Elliptic Curve over field $K$ is set of points which fulfill:\n",
    "\n",
    "$y^2 + a_1 xy + a_3 y = x^3 + a_2 x^2 + a_4 x + a_6$\n",
    "\n",
    "Plus special \"point at infinity\". With really weird \"addition\" operation.\n",
    "\n",
    "For fields other than $GF(2^k)$ and $GF(3^k)$, we can drop most of those terms and have just:\n",
    "\n",
    "$y^2 = x^3 + a_4 x + a_6$\n",
    "\n",
    "Curve is invalid if intersects itself or forms cusps (easy formula to verify this)."
   ]
  },
  {
   "cell_type": "code",
   "execution_count": 8,
   "metadata": {},
   "outputs": [
    {
     "name": "stdout",
     "output_type": "stream",
     "text": [
      "Elliptic Curve defined by y^2 = x^3 - x over Rational Field\n"
     ]
    },
    {
     "data": {
      "image/png": "[encoded data removed]",
      "text/plain": [
       "Graphics object consisting of 2 graphics primitives"
      ]
     },
     "execution_count": 8,
     "metadata": {},
     "output_type": "execute_result"
    }
   ],
   "source": [
    "E1 = EllipticCurve(QQ, [-1,0])\n",
    "print(E1)\n",
    "plot(E1)"
   ]
  },
  {
   "cell_type": "code",
   "execution_count": 9,
   "metadata": {
    "scrolled": true
   },
   "outputs": [
    {
     "name": "stdout",
     "output_type": "stream",
     "text": [
      "Elliptic Curve defined by y^2 = x^3 - 3*x + 3 over Rational Field\n"
     ]
    },
    {
     "data": {
      "image/png": "[encoded data removed]",
      "text/plain": [
       "Graphics object consisting of 1 graphics primitive"
      ]
     },
     "execution_count": 9,
     "metadata": {},
     "output_type": "execute_result"
    }
   ],
   "source": [
    "E2 = EllipticCurve(QQ, [-3,3])\n",
    "print(E2)\n",
    "plot(E2)"
   ]
  },
  {
   "cell_type": "code",
   "execution_count": 10,
   "metadata": {},
   "outputs": [
    {
     "name": "stdout",
     "output_type": "stream",
     "text": [
      "Elliptic Curve defined by y^2 = x^3 + 2*x + 3 over Finite Field of size 101\n"
     ]
    },
    {
     "data": {
      "image/png": "[encoded data removed]",
      "text/plain": [
       "Graphics object consisting of 1 graphics primitive"
      ]
     },
     "execution_count": 10,
     "metadata": {},
     "output_type": "execute_result"
    }
   ],
   "source": [
    "p = 101\n",
    "K = GF(p)\n",
    "E = EllipticCurve(K,[2, 3])\n",
    "print(E)\n",
    "plot(E)"
   ]
  },
  {
   "cell_type": "markdown",
   "metadata": {},
   "source": [
    "### Elliptic Group Addition\n",
    "* \"point at infinity\" acts like zero\n",
    "* Every straight line crosses the curve at 3 points (possibly with multiplies, or point at infinity). Sum of those three points is zero.\n",
    "* To negate a point, flip it vertically. $R=(x,y)$, $-R=(x,-y)$\n",
    "* To add $P+Q$ draw a line through $P$ and $Q$, it will generally hit the curve at another point $R$, result is $-R$\n",
    "* except when $P=P$, then extend a line tangent to the curve at that point, it will hit $R$, and result is $-R$\n",
    "* except when $P+(-P)$, then it won't cross curve anywhere else, and result is \"point at infinity\"\n",
    "* except when $P$ or $Q$ is \"point at infinity\", then result is the other point\n",
    "* WTF?\n",
    "\n",
    "![Addition](https://upload.wikimedia.org/wikipedia/commons/thumb/c/c1/ECClines.svg/2560px-ECClines.svg.png)\n",
    "\n",
    "### Anyway, we can run Elliptic Curve Diffie Hellman with this"
   ]
  },
  {
   "cell_type": "code",
   "execution_count": 11,
   "metadata": {},
   "outputs": [
    {
     "name": "stdout",
     "output_type": "stream",
     "text": [
      "(11 : 89 : 1)\n",
      "Alice sends (69 : 20 : 1) and Bob sends (27 : 67 : 1)\n",
      "Alice knows key is (69 : 20 : 1). Bob knows key is (69 : 20 : 1). Eve knows nothing.\n"
     ]
    }
   ],
   "source": [
    "p = 101\n",
    "K = GF(p)\n",
    "E = EllipticCurve(K,[2,3])\n",
    "g = E.random_point()\n",
    "a = randint(2, p)\n",
    "b = randint(2, p)\n",
    "print(g)\n",
    "ga = g*a\n",
    "gb = g*b\n",
    "print \"Alice sends %s and Bob sends %s\" % (ga, gb)\n",
    "gab = ga*b\n",
    "gba = gb*a\n",
    "print \"Alice knows key is %s. Bob knows key is %s. Eve knows nothing.\" % (gba, gab)"
   ]
  },
  {
   "cell_type": "markdown",
   "metadata": {},
   "source": [
    "### Point Representations\n",
    "* Short Weierstrass curves were first popular curves, but bad for computation.\n",
    "* Huge diversity of curves, mathematically they're _pretty much_ equivalent.\n",
    "* Mathematical security is the same. If you want to hack a curve, you can easily translate it to most convenient form first.\n",
    "* Explicit-Formulas Database [ https://hyperelliptic.org/EFD/ ] for how to add points on various curves.\n",
    "* Affine form is $(x,y)$, but it's completely impractical, as division is 100x slower than multiplication, and we'd do it a lot.\n",
    "* Instead we use projective form like $(X,Y,Z)$. $(x,y) = (X/Z,Y/Z)$ or something similar. This means we only do one division at the very end. To divide $X$ you multiply $Y$ and $Z$ etc."
   ]
  },
  {
   "cell_type": "markdown",
   "metadata": {},
   "source": [
    "### Security and Performance Considerations\n",
    "* We want to choose a safe curve - most random curves are safe, but it's possible to pick a bad curve on purpose (NSA tried literally that with Dual_EC_DRBG) [ https://safecurves.cr.yp.to/ ]\n",
    "* We want it fast (so we use $(X,Y,Z)$ or such for calculations)\n",
    "* We want it small (so we only send $x$ and $+$ or $-$ bit)\n",
    "* We want fewest special cases (Short Weierstrass has too many)\n",
    "* We want all calculations to take same time for all data, to avoid timing side channel attack\n",
    "* We want prime about 256 bits for AES-128 equivalent.\n",
    "* We want prime differing from $2^k$ in fewest positions. $p = 2^{255} − 19$ is very popular (for Curve25519 and Ed25519)\n",
    "* Squeezing last bits of elliptic curve performance with fancy math and fancy hardware optimization is popular pasttime of cryptographers."
   ]
  },
  {
   "cell_type": "markdown",
   "metadata": {},
   "source": [
    "### There Is More\n",
    "* We can run key agreement (ECDH), signatures (EdDSA), public encryption just like with traditional public key cryptography.\n",
    "* Original motivation was just small key size, better safety, and better performance.\n",
    "* It turns out elliptic curves can do a lot more, mostly thanks to pairing.\n",
    "* Pairing function $f(a,x)$ is bilinear, that is $f(a+b,x) = f(a,x)*f(b,x)$ and $f(a,x+y) = f(a,x)*f(a,y)$\n",
    "* It takes months of math to understand why it works, but it just does.\n",
    "* Pairing is $E(GF(p))$, $E(GF(p))$ to $GF(p^k)$\n",
    "* Or $E(GF(p))$, $E(GF(p^k))$ to $GF(p^k)$\n",
    "* Or something like that. Special kinds of elliptic curves are needed to keep this $k$ in check. For random curve $k$ would be ridiculously big."
   ]
  },
  {
   "cell_type": "markdown",
   "metadata": {},
   "source": [
    "### What Pairing Gives Us\n",
    "* Compressed Signatures - 1000 signatures from 1000 people can be compressed to just one element, that makes blockchain so much smaller.\n",
    "* Identity Based Encryption - Encrypt something for Alice without knowing her key, just her ID like email (and master public key). Alice still needs trusted server (with master private key) to generate private key for her. \n",
    "* Attribute Based Encryption - Encrypt something so that only people with some combination of attributes can access it. So only your doctor, or your family member can decrypt your health data. (still needs trusted server to generate those attribute keys). The key is basically locked behind a small program that checks a bunch of attributes.\n",
    "* Prove that you did some calculations without revealing anything about it. Spend cryptocurrency on the blockchain without revealing how much you spent, how much you have, who are you, and who is the recipient. With Bitcoin all of that is public (just pseudonymous)!\n",
    "* It's area of very active research. We can do things completely impossible with old crypto. Revolution in cryptography is coming."
   ]
  },
  {
   "cell_type": "markdown",
   "metadata": {},
   "source": [
    "### Quantum Computers\n",
    "* If Quantum Computers actually happen, we're all fucked. Traditional and Elliptic Curve crypto equally."
   ]
  },
  {
   "cell_type": "markdown",
   "metadata": {},
   "source": [
    "### Questions?"
   ]
  }
 ],
 "metadata": {
  "kernelspec": {
   "display_name": "SageMath 8.7",
   "language": "",
   "name": "sagemath"
  },
  "language_info": {
   "codemirror_mode": {
    "name": "ipython",
    "version": 2
   },
   "file_extension": ".py",
   "mimetype": "text/x-python",
   "name": "python",
   "nbconvert_exporter": "python",
   "pygments_lexer": "ipython2",
   "version": "2.7.15"
  }
 },
 "nbformat": 4,
 "nbformat_minor": 2
}
